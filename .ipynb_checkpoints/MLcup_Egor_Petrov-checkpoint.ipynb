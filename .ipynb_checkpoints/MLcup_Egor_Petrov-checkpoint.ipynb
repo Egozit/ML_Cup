{
 "cells": [
  {
   "cell_type": "code",
   "execution_count": 1,
   "metadata": {},
   "outputs": [],
   "source": [
    "import numpy as np\n",
    "import random\n",
    "import pandas as pd\n",
    "import matplotlib.pyplot as plt\n",
    "import csv\n",
    "from pandas.plotting import scatter_matrix\n",
    "from sklearn.model_selection import train_test_split\n",
    "from sklearn.neighbors import KNeighborsRegressor\n",
    "from sklearn.svm import SVC\n",
    "from sklearn import ensemble\n",
    "from sklearn.metrics import log_loss\n",
    "plt.style.use('ggplot')\n",
    "%matplotlib inline\n",
    "pd.options.display.width = 0\n",
    "%install_ext https://raw.github.com/cpcloud/ipython-autotime/master/autotime.py\n",
    "%load_ext autotime"
   ]
  },
  {
   "cell_type": "code",
   "execution_count": 2,
   "metadata": {},
   "outputs": [
    {
     "name": "stdout",
     "output_type": "stream",
     "text": [
      "KNeighborsRegressor(algorithm='auto', leaf_size=30, metric='minkowski',\n",
      "          metric_params=None, n_jobs=None, n_neighbors=5, p=2,\n",
      "          weights='uniform')\n"
     ]
    }
   ],
   "source": [
    "chunk = pd.read_csv('train.tar.gz', compression='gzip', header=0, sep=';', quotechar='\"', nrows = 1000000)\n",
    "\n",
    "try:\n",
    "    del chunk['CG3']\n",
    "    del chunk['CG2']\n",
    "    del chunk['CG1']\n",
    "    del chunk['C7']\n",
    "    del chunk['l2']\n",
    "    del chunk['train.csv']\n",
    "    del chunk['C11']\n",
    "except Exception:\n",
    "    pass\n",
    "\n",
    "categorical_columns = ['label']\n",
    "numerical_columns = ['C1', 'C2', 'C4', 'C10', 'l1','C5', 'C12','C9','C8','C6','C3']\n",
    "chunk = chunk.fillna(chunk.median(axis=0), axis=0)\n",
    "for c in categorical_columns:\n",
    "    chunk[c] = chunk[c].astype('category')\n",
    "    data_describe = chunk[c].describe()\n",
    "    chunk[c] = chunk[c].fillna(data_describe['top'])\n",
    "binary_columns    = ['label']\n",
    "# nonbinary_columns = ['C7', 'l2']\n",
    "\n",
    "data_numerical = chunk[numerical_columns]\n",
    "# data_nonbinary = pd.get_dummies(chunk[nonbinary_columns])\n",
    "data_numerical = (data_numerical - data_numerical.mean()) / data_numerical.std()\n",
    "chunk = pd.concat((data_numerical, chunk[binary_columns]), axis=1)\n",
    "chunk = pd.DataFrame(chunk, dtype=float)\n",
    "\n",
    "\n",
    "\n",
    "\n",
    "\n",
    "X = chunk.drop(('label'), axis=1)\n",
    "y = chunk['label']\n",
    "feature_names = X.columns\n",
    "\n"
   ]
  },
  {
   "cell_type": "code",
   "execution_count": 12,
   "metadata": {},
   "outputs": [
    {
     "name": "stdout",
     "output_type": "stream",
     "text": [
      "GradientBoostingRegressor(alpha=0.9, criterion='friedman_mse', init=None,\n",
      "             learning_rate=0.1, loss='ls', max_depth=3, max_features=None,\n",
      "             max_leaf_nodes=None, min_impurity_decrease=0.0,\n",
      "             min_impurity_split=None, min_samples_leaf=1,\n",
      "             min_samples_split=2, min_weight_fraction_leaf=0.0,\n",
      "             n_estimators=400, n_iter_no_change=None, presort='auto',\n",
      "             random_state=None, subsample=1.0, tol=0.0001,\n",
      "             validation_fraction=0.1, verbose=0, warm_start=False)\n"
     ]
    }
   ],
   "source": [
    "\n",
    "knn = ensemble.GradientBoostingRegressor(n_estimators=400)\n",
    "# knn = KNeighborsRegressor()\n",
    "knn.fit(X, y)\n",
    "print(knn)"
   ]
  },
  {
   "cell_type": "code",
   "execution_count": 3,
   "metadata": {},
   "outputs": [
    {
     "name": "stdout",
     "output_type": "stream",
     "text": [
      "0.00667543553534043\n"
     ]
    }
   ],
   "source": [
    "y_train_predict = knn.predict(X)\n",
    "\n",
    "\n",
    "err_train = log_loss(y, y_train_predict)\n",
    "# err_test  = np.mean(y_test  != y_test_predict)\n",
    "print(err_train)"
   ]
  },
  {
   "cell_type": "code",
   "execution_count": 4,
   "metadata": {},
   "outputs": [
    {
     "ename": "AttributeError",
     "evalue": "'KNeighborsRegressor' object has no attribute 'feature_importances_'",
     "output_type": "error",
     "traceback": [
      "\u001b[1;31m---------------------------------------------------------------------------\u001b[0m",
      "\u001b[1;31mAttributeError\u001b[0m                            Traceback (most recent call last)",
      "\u001b[1;32m<ipython-input-4-d9da9a6ab8b0>\u001b[0m in \u001b[0;36m<module>\u001b[1;34m()\u001b[0m\n\u001b[0;32m      1\u001b[0m \u001b[1;33m\u001b[0m\u001b[0m\n\u001b[1;32m----> 2\u001b[1;33m \u001b[0mimportances\u001b[0m \u001b[1;33m=\u001b[0m \u001b[0mknn\u001b[0m\u001b[1;33m.\u001b[0m\u001b[0mfeature_importances_\u001b[0m\u001b[1;33m\u001b[0m\u001b[0m\n\u001b[0m\u001b[0;32m      3\u001b[0m \u001b[0mindices\u001b[0m \u001b[1;33m=\u001b[0m \u001b[0mnp\u001b[0m\u001b[1;33m.\u001b[0m\u001b[0margsort\u001b[0m\u001b[1;33m(\u001b[0m\u001b[0mimportances\u001b[0m\u001b[1;33m)\u001b[0m\u001b[1;33m[\u001b[0m\u001b[1;33m:\u001b[0m\u001b[1;33m:\u001b[0m\u001b[1;33m-\u001b[0m\u001b[1;36m1\u001b[0m\u001b[1;33m]\u001b[0m\u001b[1;33m\u001b[0m\u001b[0m\n\u001b[0;32m      4\u001b[0m \u001b[1;33m\u001b[0m\u001b[0m\n\u001b[0;32m      5\u001b[0m \u001b[0mprint\u001b[0m\u001b[1;33m(\u001b[0m\u001b[1;34m\"Feature importances:\"\u001b[0m\u001b[1;33m)\u001b[0m\u001b[1;33m\u001b[0m\u001b[0m\n",
      "\u001b[1;31mAttributeError\u001b[0m: 'KNeighborsRegressor' object has no attribute 'feature_importances_'"
     ]
    }
   ],
   "source": [
    "\n",
    "importances = knn.feature_importances_\n",
    "indices = np.argsort(importances)[::-1]\n",
    "\n",
    "print(\"Feature importances:\")\n",
    "for f, idx in enumerate(indices):\n",
    "    print(\"{:2d}. feature '{:5s}' ({:.4f})\".format(f + 1, feature_names[idx], importances[idx]))\n",
    "    \n"
   ]
  },
  {
   "cell_type": "code",
   "execution_count": 5,
   "metadata": {},
   "outputs": [],
   "source": [
    "test_chunk = pd.read_csv('test-data.tar.gz', compression='gzip', header=0, sep=',', quotechar='\"')\n"
   ]
  },
  {
   "cell_type": "code",
   "execution_count": 6,
   "metadata": {},
   "outputs": [],
   "source": [
    "try:\n",
    "    del test_chunk['CG3']\n",
    "    del test_chunk['CG2']\n",
    "    del test_chunk['CG1']\n",
    "    del test_chunk['C7']\n",
    "    del test_chunk['l2']\n",
    "    del test_chunk['test.csv']\n",
    "    del chunk['C11']\n",
    "except Exception:\n",
    "    pass\n",
    "\n",
    "categorical_columns = ['label']\n",
    "numerical_columns = ['C1', 'C2', 'C4', 'C10', 'l1', 'C5', 'C12','C9','C8','C6','C3']\n",
    "test_chunk = test_chunk.fillna(test_chunk.median(axis=0), axis=0)\n",
    "for c in categorical_columns:\n",
    "    test_chunk[c] = test_chunk[c].astype('category')\n",
    "    data_describe = test_chunk[c].describe()\n",
    "    test_chunk[c] = test_chunk[c].fillna(data_describe['top'])\n",
    "binary_columns    = ['label']\n",
    "# nonbinary_columns = ['C7', 'l2']\n",
    "\n",
    "data_numerical = test_chunk[numerical_columns]\n",
    "# data_nonbinary = pd.get_dummies(chunk[nonbinary_columns])\n",
    "data_numerical = (data_numerical - data_numerical.mean()) / data_numerical.std()\n",
    "test_chunk = pd.concat((data_numerical, test_chunk[binary_columns]), axis=1)\n",
    "test_chunk = pd.DataFrame(test_chunk, dtype=float)\n",
    "\n",
    "X_test = test_chunk.drop(('label'), axis=1)\n",
    "y_test = test_chunk['label']\n",
    "feature_names = X_test.columns"
   ]
  },
  {
   "cell_type": "code",
   "execution_count": 13,
   "metadata": {},
   "outputs": [],
   "source": [
    "y_test_predict = knn.predict(X_test)\n",
    "# err_test  = np.mean(y_test  != y_test_predict)\n"
   ]
  },
  {
   "cell_type": "code",
   "execution_count": 14,
   "metadata": {},
   "outputs": [],
   "source": [
    "with open('answer.csv','w') as file:\n",
    "    for line in y_test_predict:\n",
    "        file.write(str(line))\n",
    "        file.write('\\n')"
   ]
  }
 ],
 "metadata": {
  "kernelspec": {
   "display_name": "Python 3",
   "language": "python",
   "name": "python3"
  },
  "language_info": {
   "codemirror_mode": {
    "name": "ipython",
    "version": 3
   },
   "file_extension": ".py",
   "mimetype": "text/x-python",
   "name": "python",
   "nbconvert_exporter": "python",
   "pygments_lexer": "ipython3",
   "version": "3.7.0"
  }
 },
 "nbformat": 4,
 "nbformat_minor": 2
}
